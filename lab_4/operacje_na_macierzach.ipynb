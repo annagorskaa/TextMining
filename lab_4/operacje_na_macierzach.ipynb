{
 "cells": [
  {
   "cell_type": "code",
   "execution_count": 2,
   "metadata": {
    "collapsed": true
   },
   "outputs": [],
   "source": [
    "import numpy as np\n",
    "import pandas as pd\n",
    "from matplotlib import pyplot as plt\n",
    "from prettytable import PrettyTable\n",
    "from sklearn.feature_extraction.text import TfidfVectorizer, CountVectorizer\n",
    "\n",
    "from text_function import text_tokenizer"
   ]
  },
  {
   "cell_type": "code",
   "execution_count": 19,
   "outputs": [],
   "source": [
    "true_posts = pd.read_csv('Data/True.csv', usecols=['title', 'text'])\n",
    "true = true_posts['title']\n",
    "# entire_text = ' '.join(true.to_list())\n",
    "\n",
    "fake_posts = pd.read_csv('Data/Fake.csv', usecols=['title', 'text'])\n",
    "fake = fake_posts['title']\n",
    "\n",
    "vectorizer = CountVectorizer(tokenizer=text_tokenizer)"
   ],
   "metadata": {
    "collapsed": false,
    "pycharm": {
     "name": "#%%\n"
    }
   }
  },
  {
   "cell_type": "code",
   "execution_count": 6,
   "outputs": [],
   "source": [
    "X_transform = vectorizer.fit_transform(true)\n",
    "slowa = vectorizer.get_feature_names_out(true)\n",
    "m = sum(X_transform.toarray())\n",
    "ind = np.argpartition(m, -10)[-10:]"
   ],
   "metadata": {
    "collapsed": false,
    "pycharm": {
     "name": "#%%\n"
    }
   }
  },
  {
   "cell_type": "markdown",
   "source": [
    "Tokeny najczęściej występujących słów w tytułach z pliku True"
   ],
   "metadata": {
    "collapsed": false
   }
  },
  {
   "cell_type": "code",
   "execution_count": 7,
   "outputs": [
    {
     "name": "stdout",
     "output_type": "stream",
     "text": [
      "['state' 'white' 'say' 'korea' 'republican' 'trump' 'north' 'hous' 'senat'\n",
      " 'russia']\n"
     ]
    }
   ],
   "source": [
    "print(slowa[ind])"
   ],
   "metadata": {
    "collapsed": false,
    "pycharm": {
     "name": "#%%\n"
    }
   }
  },
  {
   "cell_type": "markdown",
   "source": [
    "Ilość najczęściej występujących tokenów wraz z indeksami"
   ],
   "metadata": {
    "collapsed": false
   }
  },
  {
   "cell_type": "code",
   "execution_count": 8,
   "outputs": [
    {
     "name": "stdout",
     "output_type": "stream",
     "text": [
      "[ 804  815 2987  881  973 5420  925 1465 1189  914]\n",
      "[7816 9116 7189 4495 6815 8492 5573 3923 7316 7062]\n"
     ]
    }
   ],
   "source": [
    "print(m[ind])\n",
    "# indeksy slowa najczesciej wystepujace\n",
    "print(ind)"
   ],
   "metadata": {
    "collapsed": false,
    "pycharm": {
     "name": "#%%\n"
    }
   }
  },
  {
   "cell_type": "markdown",
   "source": [
    "   Najczęściej występujące tokeny w tytułach z pliku True\n",
    "    Wizualizacja - wykres"
   ],
   "metadata": {
    "collapsed": false
   }
  },
  {
   "cell_type": "code",
   "execution_count": 9,
   "outputs": [
    {
     "data": {
      "text/plain": "<Figure size 432x288 with 1 Axes>",
      "image/png": "[encoded data removed]"
     },
     "metadata": {
      "needs_background": "light"
     },
     "output_type": "display_data"
    }
   ],
   "source": [
    "plt.barh(slowa[ind], m[ind], color='crimson')\n",
    "plt.title('Najczęściej występujące tokeny w pliku True')\n",
    "plt.ylabel('Ilość')\n",
    "plt.xlabel('Termin')\n",
    "plt.show()"
   ],
   "metadata": {
    "collapsed": false,
    "pycharm": {
     "name": "#%%\n"
    }
   }
  },
  {
   "cell_type": "markdown",
   "source": [
    "Najczęściej występujące tokeny w tytułach z pliku True\n",
    "Wizualizacja - Pretty table"
   ],
   "metadata": {
    "collapsed": false
   }
  },
  {
   "cell_type": "markdown",
   "source": [],
   "metadata": {
    "collapsed": false
   }
  },
  {
   "cell_type": "code",
   "execution_count": 10,
   "outputs": [
    {
     "name": "stdout",
     "output_type": "stream",
     "text": [
      "+------------+-------+\n",
      "|   Termin   | Ilość |\n",
      "+------------+-------+\n",
      "|   state    |  804  |\n",
      "|   white    |  815  |\n",
      "|   korea    |  881  |\n",
      "|   russia   |  914  |\n",
      "|   north    |  925  |\n",
      "| republican |  973  |\n",
      "|   senat    |  1189 |\n",
      "|    hous    |  1465 |\n",
      "|    say     |  2987 |\n",
      "|   trump    |  5420 |\n",
      "+------------+-------+\n"
     ]
    }
   ],
   "source": [
    "columns = [\"Termin\",\"Ilość\"]\n",
    "newTable = PrettyTable()\n",
    "newTable.add_column(columns[0], slowa[ind])\n",
    "newTable.add_column(columns[1], m[ind])\n",
    "newTable.sortby = columns[1]\n",
    "print(newTable)"
   ],
   "metadata": {
    "collapsed": false,
    "pycharm": {
     "name": "#%%\n"
    }
   }
  },
  {
   "cell_type": "markdown",
   "source": [
    "Najczęściej występujące tokeny słów w tytułach z pliku Fake"
   ],
   "metadata": {
    "collapsed": false
   }
  },
  {
   "cell_type": "code",
   "execution_count": 21,
   "outputs": [],
   "source": [
    "X_transform = vectorizer.fit_transform(fake)\n",
    "f_slowa = vectorizer.get_feature_names_out(fake)\n",
    "f_sum = sum(X_transform.toarray())\n",
    "f_ind = np.argpartition(f_sum, -10)[-10:]"
   ],
   "metadata": {
    "collapsed": false,
    "pycharm": {
     "name": "#%%\n"
    }
   }
  },
  {
   "cell_type": "markdown",
   "source": [],
   "metadata": {
    "collapsed": false
   }
  },
  {
   "cell_type": "markdown",
   "source": [
    "Tokeny najczęściej występujących słów w tytułach z pliku Fake"
   ],
   "metadata": {
    "collapsed": false
   }
  },
  {
   "cell_type": "code",
   "execution_count": 23,
   "outputs": [
    {
     "name": "stdout",
     "output_type": "stream",
     "text": [
      "['tweet' 'black' 'break' 'clinton' 'presid' 'obama' 'hillari' 'video'\n",
      " 'watch' 'trump']\n"
     ]
    }
   ],
   "source": [
    "print(f_slowa[f_ind])"
   ],
   "metadata": {
    "collapsed": false,
    "pycharm": {
     "name": "#%%\n"
    }
   }
  },
  {
   "cell_type": "markdown",
   "source": [
    "Ilości najczęściej wystęujących tokenów wraz z indeksami"
   ],
   "metadata": {
    "collapsed": false
   }
  },
  {
   "cell_type": "code",
   "execution_count": 24,
   "outputs": [
    {
     "name": "stdout",
     "output_type": "stream",
     "text": [
      "[ 922  932 1031 1136 1191 2493 2190 8377 1943 8685]\n",
      "[11745  1188  1429  2127  8688  7743  5320 12143 12365 11577]\n"
     ]
    }
   ],
   "source": [
    "print(f_sum[f_ind])\n",
    "# indeksy slowa najczesciej wystepujace\n",
    "print(f_ind)"
   ],
   "metadata": {
    "collapsed": false,
    "pycharm": {
     "name": "#%%\n"
    }
   }
  },
  {
   "cell_type": "markdown",
   "source": [
    "Wizualizacja - wykres"
   ],
   "metadata": {
    "collapsed": false
   }
  },
  {
   "cell_type": "code",
   "source": [
    "plt.barh(f_slowa[f_ind], f_sum[f_ind], color='lightpink')\n",
    "plt.title('Najczęściej występujące tokeny w pliku True')\n",
    "plt.xlabel('Ilość')\n",
    "plt.ylabel('Termin')\n",
    "plt.show()"
   ],
   "metadata": {
    "collapsed": false,
    "pycharm": {
     "name": "#%%\n"
    }
   },
   "execution_count": 26,
   "outputs": [
    {
     "data": {
      "text/plain": "<Figure size 432x288 with 1 Axes>",
      "image/png": "[encoded data removed]"
     },
     "metadata": {
      "needs_background": "light"
     },
     "output_type": "display_data"
    }
   ]
  },
  {
   "cell_type": "markdown",
   "source": [
    "Tabela"
   ],
   "metadata": {
    "collapsed": false
   }
  },
  {
   "cell_type": "code",
   "execution_count": 27,
   "outputs": [
    {
     "name": "stdout",
     "output_type": "stream",
     "text": [
      "+---------+-------+\n",
      "|  Termin | Ilość |\n",
      "+---------+-------+\n",
      "|  tweet  |  922  |\n",
      "|  black  |  932  |\n",
      "|  break  |  1031 |\n",
      "| clinton |  1136 |\n",
      "|  presid |  1191 |\n",
      "|  watch  |  1943 |\n",
      "| hillari |  2190 |\n",
      "|  obama  |  2493 |\n",
      "|  video  |  8377 |\n",
      "|  trump  |  8685 |\n",
      "+---------+-------+\n"
     ]
    }
   ],
   "source": [
    "columns = [\"Termin\",\"Ilość\"]\n",
    "newTable = PrettyTable()\n",
    "newTable.add_column(columns[0], f_slowa[f_ind])\n",
    "newTable.add_column(columns[1], f_sum[f_ind])\n",
    "newTable.sortby = columns[1]\n",
    "print(newTable)"
   ],
   "metadata": {
    "collapsed": false,
    "pycharm": {
     "name": "#%%\n"
    }
   }
  },
  {
   "cell_type": "markdown",
   "source": [],
   "metadata": {
    "collapsed": false
   }
  },
  {
   "cell_type": "code",
   "execution_count": 47,
   "outputs": [],
   "source": [
    "tvectorizer = TfidfVectorizer(tokenizer=text_tokenizer)\n",
    "TX_transform = tvectorizer.fit_transform(true)\n",
    "# print(TX_transform.toarray())\n",
    "top = sum(TX_transform.toarray())\n",
    "ind2 = np.argpartition(top, -10)[-10:]"
   ],
   "metadata": {
    "collapsed": false,
    "pycharm": {
     "name": "#%%\n"
    }
   }
  },
  {
   "cell_type": "markdown",
   "source": [
    "10 najbardziej kluczowych tokeny"
   ],
   "metadata": {
    "collapsed": false
   }
  },
  {
   "cell_type": "code",
   "execution_count": 48,
   "outputs": [
    {
     "name": "stdout",
     "output_type": "stream",
     "text": [
      "['state' 'white' 'korea' 'hous' 'senat' 'say' 'north' 'republican'\n",
      " 'russia' 'trump']\n"
     ]
    }
   ],
   "source": [
    "print(slowa[ind2])"
   ],
   "metadata": {
    "collapsed": false,
    "pycharm": {
     "name": "#%%\n"
    }
   }
  },
  {
   "cell_type": "markdown",
   "source": [],
   "metadata": {
    "collapsed": false
   }
  },
  {
   "cell_type": "code",
   "execution_count": 49,
   "outputs": [
    {
     "name": "stdout",
     "output_type": "stream",
     "text": [
      "[202.412027   210.79843534 223.96858335 334.2019234  293.27145143\n",
      " 532.83798562 229.11848171 254.91437762 233.88170866 794.36913366]\n",
      "[7816 9116 4495 3923 7316 7189 5573 6815 7062 8492]\n"
     ]
    }
   ],
   "source": [
    "print(top[ind2])\n",
    "print(ind2)"
   ],
   "metadata": {
    "collapsed": false,
    "pycharm": {
     "name": "#%%\n"
    }
   }
  },
  {
   "cell_type": "markdown",
   "source": [
    "Wizualizacja kluczowych tokenów tytułów z pliku True"
   ],
   "metadata": {
    "collapsed": false
   }
  },
  {
   "cell_type": "code",
   "execution_count": 51,
   "outputs": [
    {
     "data": {
      "text/plain": "<Figure size 432x288 with 1 Axes>",
      "image/png": "[encoded data removed]"
     },
     "metadata": {
      "needs_background": "light"
     },
     "output_type": "display_data"
    }
   ],
   "source": [
    "plt.barh(slowa[ind2], top[ind2], color='bisque')\n",
    "plt.title('Kluczowe tokeny w pliku True')\n",
    "plt.xlabel('TFIDF')\n",
    "plt.ylabel('Termin')\n",
    "plt.show()"
   ],
   "metadata": {
    "collapsed": false,
    "pycharm": {
     "name": "#%%\n"
    }
   }
  },
  {
   "cell_type": "code",
   "execution_count": 50,
   "outputs": [
    {
     "name": "stdout",
     "output_type": "stream",
     "text": [
      "+------------+--------------------+\n",
      "|   Termin   |       TFIDF        |\n",
      "+------------+--------------------+\n",
      "|   state    | 202.41202700016686 |\n",
      "|   white    | 210.79843534479036 |\n",
      "|   korea    | 223.96858334753762 |\n",
      "|   north    | 229.1184817106866  |\n",
      "|   russia   | 233.8817086555213  |\n",
      "| republican | 254.91437762100287 |\n",
      "|   senat    | 293.27145142764334 |\n",
      "|    hous    | 334.2019233960819  |\n",
      "|    say     | 532.8379856173508  |\n",
      "|   trump    | 794.3691336560518  |\n",
      "+------------+--------------------+\n"
     ]
    }
   ],
   "source": [
    "columns = [\"Termin\",\"TFIDF\"]\n",
    "newTable = PrettyTable()\n",
    "newTable.add_column(columns[0], slowa[ind2])\n",
    "newTable.add_column(columns[1], top[ind2])\n",
    "newTable.sortby = columns[1]\n",
    "print(newTable)"
   ],
   "metadata": {
    "collapsed": false,
    "pycharm": {
     "name": "#%%\n"
    }
   }
  },
  {
   "cell_type": "markdown",
   "source": [
    "Top 10 dokumentów, które zawierają najwięcej tokenów"
   ],
   "metadata": {
    "collapsed": false
   }
  },
  {
   "cell_type": "code",
   "execution_count": 52,
   "outputs": [
    {
     "name": "stdout",
     "output_type": "stream",
     "text": [
      "7     Factbox: Trump on Twitter (Dec 29) - Approval ...\n",
      "8            Trump on Twitter (Dec 28) - Global Warming\n",
      "9     Alabama official to certify Senator-elect Jone...\n",
      "8            Trump on Twitter (Dec 28) - Global Warming\n",
      "7     Factbox: Trump on Twitter (Dec 29) - Approval ...\n",
      "                            ...                        \n",
      "8            Trump on Twitter (Dec 28) - Global Warming\n",
      "8            Trump on Twitter (Dec 28) - Global Warming\n",
      "10    Jones certified U.S. Senate winner despite Moo...\n",
      "7     Factbox: Trump on Twitter (Dec 29) - Approval ...\n",
      "9     Alabama official to certify Senator-elect Jone...\n",
      "Name: title, Length: 23481, dtype: object\n"
     ]
    }
   ],
   "source": [
    "n = np.sum(X_transform.toarray(), axis=1)\n",
    "print(true[n])"
   ],
   "metadata": {
    "collapsed": false,
    "pycharm": {
     "name": "#%%\n"
    }
   }
  },
  {
   "cell_type": "markdown",
   "source": [
    "10 najważniejszych tokenów na podstawie wagi binarnej"
   ],
   "metadata": {
    "collapsed": false
   }
  },
  {
   "cell_type": "code",
   "execution_count": 53,
   "outputs": [],
   "source": [
    "vectorizer_bw = CountVectorizer(tokenizer=text_tokenizer, binary= True)\n",
    "\n",
    "X_transform_bw = vectorizer_bw.fit_transform(true)\n",
    "slowa_bw = vectorizer_bw.get_feature_names_out()\n",
    "sum_bw = sum(X_transform_bw.toarray())\n",
    "ind_bw = np.argpartition(sum_bw, -10)[-10:]"
   ],
   "metadata": {
    "collapsed": false,
    "pycharm": {
     "name": "#%%\n"
    }
   }
  },
  {
   "cell_type": "markdown",
   "source": [],
   "metadata": {
    "collapsed": false
   }
  },
  {
   "cell_type": "markdown",
   "source": [],
   "metadata": {
    "collapsed": false
   }
  },
  {
   "cell_type": "code",
   "execution_count": 54,
   "outputs": [
    {
     "name": "stdout",
     "output_type": "stream",
     "text": [
      "['state' 'korea' 'white' 'russia' 'republican' 'north' 'senat' 'trump'\n",
      " 'say' 'hous']\n"
     ]
    }
   ],
   "source": [
    "print(slowa_bw[ind_bw])"
   ],
   "metadata": {
    "collapsed": false,
    "pycharm": {
     "name": "#%%\n"
    }
   }
  },
  {
   "cell_type": "code",
   "execution_count": 55,
   "outputs": [
    {
     "name": "stdout",
     "output_type": "stream",
     "text": [
      "[ 801  825  812  908  972  920 1164 5389 2984 1435]\n",
      "[7816 4495 9116 7062 6815 5573 7316 8492 7189 3923]\n"
     ]
    }
   ],
   "source": [
    "print(sum_bw[ind_bw])\n",
    "print(ind_bw)"
   ],
   "metadata": {
    "collapsed": false,
    "pycharm": {
     "name": "#%%\n"
    }
   }
  },
  {
   "cell_type": "markdown",
   "source": [
    "Wizualizacja najważniejszych tokenów na podstawie wagi binarnej"
   ],
   "metadata": {
    "collapsed": false
   }
  },
  {
   "cell_type": "code",
   "execution_count": 58,
   "outputs": [
    {
     "data": {
      "text/plain": "<Figure size 432x288 with 1 Axes>",
      "image/png": "[encoded data removed]"
     },
     "metadata": {
      "needs_background": "light"
     },
     "output_type": "display_data"
    }
   ],
   "source": [
    "plt.barh(f_slowa[f_ind], f_sum[f_ind], color='springgreen')\n",
    "plt.title('10 najważniejszych tokenów na podstawie wagi binarnej z pliku True')\n",
    "plt.xlabel('Waga')\n",
    "plt.ylabel('Termin')\n",
    "plt.show()"
   ],
   "metadata": {
    "collapsed": false,
    "pycharm": {
     "name": "#%%\n"
    }
   }
  },
  {
   "cell_type": "code",
   "execution_count": 60,
   "outputs": [
    {
     "name": "stdout",
     "output_type": "stream",
     "text": [
      "+------------+--------------------+\n",
      "|   Termin   |        Waga        |\n",
      "+------------+--------------------+\n",
      "|   state    | 202.41202700016686 |\n",
      "|   white    | 210.79843534479036 |\n",
      "|   korea    | 223.96858334753762 |\n",
      "|   north    | 229.1184817106866  |\n",
      "|   russia   | 233.8817086555213  |\n",
      "| republican | 254.91437762100287 |\n",
      "|   senat    | 293.27145142764334 |\n",
      "|    hous    | 334.2019233960819  |\n",
      "|    say     | 532.8379856173508  |\n",
      "|   trump    | 794.3691336560518  |\n",
      "+------------+--------------------+\n"
     ]
    }
   ],
   "source": [
    "columns = [\"Termin\",\"Waga\"]\n",
    "newTable = PrettyTable()\n",
    "newTable.add_column(columns[0], slowa[ind2])\n",
    "newTable.add_column(columns[1], top[ind2])\n",
    "newTable.sortby = columns[1]\n",
    "print(newTable)"
   ],
   "metadata": {
    "collapsed": false,
    "pycharm": {
     "name": "#%%\n"
    }
   }
  }
 ],
 "metadata": {
  "kernelspec": {
   "display_name": "Python 3",
   "language": "python",
   "name": "python3"
  },
  "language_info": {
   "codemirror_mode": {
    "name": "ipython",
    "version": 2
   },
   "file_extension": ".py",
   "mimetype": "text/x-python",
   "name": "python",
   "nbconvert_exporter": "python",
   "pygments_lexer": "ipython2",
   "version": "2.7.6"
  }
 },
 "nbformat": 4,
 "nbformat_minor": 0
}