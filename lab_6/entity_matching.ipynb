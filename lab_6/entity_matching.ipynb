{
 "cells": [
  {
   "cell_type": "code",
   "execution_count": 36,
   "metadata": {
    "collapsed": true
   },
   "outputs": [],
   "source": [
    "from sklearn.feature_extraction.text import CountVectorizer\n",
    "from sklearn.metrics.pairwise import cosine_similarity, euclidean_distances, cosine_distances\n",
    "import text_function as textfun\n",
    "import pandas as pd\n",
    "import numpy as np"
   ]
  },
  {
   "cell_type": "code",
   "execution_count": 44,
   "outputs": [
    {
     "name": "stdout",
     "output_type": "stream",
     "text": [
      "0     Leroy Merlin\n",
      "1     Leroy-Merlin\n",
      "2    Learoy Meriln\n",
      "3     Liroy Merlin\n",
      "Name: Sentence, dtype: object\n"
     ]
    }
   ],
   "source": [
    "df = pd.read_excel('Data/example.xlsx')\n",
    "sentence = df['Sentence']\n",
    "print(sentence)"
   ],
   "metadata": {
    "collapsed": false,
    "pycharm": {
     "name": "#%%\n"
    }
   }
  },
  {
   "cell_type": "code",
   "execution_count": 45,
   "outputs": [],
   "source": [
    "vectorizer = CountVectorizer(tokenizer=textfun.text_tokenizer)\n",
    "X_transform = vectorizer.fit_transform(sentence)"
   ],
   "metadata": {
    "collapsed": false,
    "pycharm": {
     "name": "#%%\n"
    }
   }
  },
  {
   "cell_type": "code",
   "execution_count": 46,
   "outputs": [
    {
     "name": "stdout",
     "output_type": "stream",
     "text": [
      "[[1.  0.  0.  0.5]\n",
      " [0.  1.  0.  0. ]\n",
      " [0.  0.  1.  0. ]\n",
      " [0.5 0.  0.  1. ]]\n"
     ]
    }
   ],
   "source": [
    "cs = cosine_similarity(X_transform, X_transform)\n",
    "print(cs)"
   ],
   "metadata": {
    "collapsed": false,
    "pycharm": {
     "name": "#%%\n"
    }
   }
  },
  {
   "cell_type": "code",
   "execution_count": 48,
   "outputs": [
    {
     "name": "stdout",
     "output_type": "stream",
     "text": [
      "[[0.  1.  1.  0.5]\n",
      " [1.  0.  1.  1. ]\n",
      " [1.  1.  0.  1. ]\n",
      " [0.5 1.  1.  0. ]]\n"
     ]
    }
   ],
   "source": [
    "\n",
    "cd = cosine_distances(X_transform, X_transform)\n",
    "print(cd)"
   ],
   "metadata": {
    "collapsed": false,
    "pycharm": {
     "name": "#%%\n"
    }
   }
  },
  {
   "cell_type": "code",
   "execution_count": 47,
   "outputs": [
    {
     "name": "stdout",
     "output_type": "stream",
     "text": [
      "[[0.         1.73205081 2.         1.41421356]\n",
      " [1.73205081 0.         1.73205081 1.73205081]\n",
      " [2.         1.73205081 0.         2.        ]\n",
      " [1.41421356 1.73205081 2.         0.        ]]\n"
     ]
    }
   ],
   "source": [
    "ed = euclidean_distances(X_transform, X_transform)\n",
    "print(ed)"
   ],
   "metadata": {
    "collapsed": false,
    "pycharm": {
     "name": "#%%\n"
    }
   }
  },
  {
   "cell_type": "code",
   "execution_count": 29,
   "outputs": [
    {
     "name": "stdout",
     "output_type": "stream",
     "text": [
      "0                            You are the dancing queen\n",
      "1                                      Young and sweet\n",
      "2                        Only seventeen, Dancing queen\n",
      "3     I've been cheated by you since I don't know when\n",
      "4         So I made up my mind, it must come to an end\n",
      "5                    Look at me now, will I ever learn\n",
      "6        I don't know how, but I suddenly lose control\n",
      "7                        There's a fire within my soul\n",
      "8                           and I can hear a bell ring\n",
      "9        (One more look) and I forget everything, whoa\n",
      "10                          Mamma mia, here I go again\n",
      "11                       My, my, how can I resist you?\n",
      "12                       Mamma mia, does it show again\n",
      "13              My, my, just how much I've missed you?\n",
      "Name: Sentence, dtype: object\n"
     ]
    }
   ],
   "source": [
    "df = pd.read_excel('Data/abba_lyrics.xlsx')\n",
    "abba = df['Sentence']\n",
    "print(abba)"
   ],
   "metadata": {
    "collapsed": false,
    "pycharm": {
     "name": "#%%\n"
    }
   }
  },
  {
   "cell_type": "code",
   "execution_count": 51,
   "outputs": [],
   "source": [
    "vectorizer = CountVectorizer(tokenizer=textfun.text_tokenizer)\n",
    "X_transform_abba = vectorizer.fit_transform(abba[9:])\n",
    "# X_transform_array = np.array(X_transform_abba)"
   ],
   "metadata": {
    "collapsed": false,
    "pycharm": {
     "name": "#%%\n"
    }
   }
  },
  {
   "cell_type": "code",
   "execution_count": 52,
   "outputs": [
    {
     "name": "stdout",
     "output_type": "stream",
     "text": [
      "[[1.         0.         0.         0.         0.        ]\n",
      " [0.         1.         0.         0.70710678 0.        ]\n",
      " [0.         0.         1.         0.         0.        ]\n",
      " [0.         0.70710678 0.         1.         0.        ]\n",
      " [0.         0.         0.         0.         1.        ]]\n"
     ]
    }
   ],
   "source": [
    "cs = cosine_similarity(X_transform_abba, X_transform_abba)\n",
    "print(cs)"
   ],
   "metadata": {
    "collapsed": false,
    "pycharm": {
     "name": "#%%\n"
    }
   }
  },
  {
   "cell_type": "code",
   "execution_count": 23,
   "outputs": [
    {
     "name": "stdout",
     "output_type": "stream",
     "text": [
      "[[1.         0.         0.81649658 0.        ]\n",
      " [0.         1.         0.         0.        ]\n",
      " [0.81649658 0.         1.         0.        ]\n",
      " [0.         0.         0.         1.        ]]\n"
     ]
    }
   ],
   "source": [
    "dos = ['You are the dancing queen', 'Young and sweet', 'Only seventeen, Dancing queen', \"I've been cheated by you since I don't know when\"]\n",
    "\n",
    "vectorizer = CountVectorizer(tokenizer=textfun.text_tokenizer)\n",
    "dosX_transform = vectorizer.fit_transform(dos)\n",
    "cs = cosine_similarity(dosX_transform, dosX_transform)\n",
    "print(cs)"
   ],
   "metadata": {
    "collapsed": false,
    "pycharm": {
     "name": "#%%\n"
    }
   }
  }
 ],
 "metadata": {
  "kernelspec": {
   "display_name": "Python 3",
   "language": "python",
   "name": "python3"
  },
  "language_info": {
   "codemirror_mode": {
    "name": "ipython",
    "version": 2
   },
   "file_extension": ".py",
   "mimetype": "text/x-python",
   "name": "python",
   "nbconvert_exporter": "python",
   "pygments_lexer": "ipython2",
   "version": "2.7.6"
  }
 },
 "nbformat": 4,
 "nbformat_minor": 0
}